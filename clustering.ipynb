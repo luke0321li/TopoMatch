{
 "cells": [
  {
   "cell_type": "code",
   "execution_count": 1,
   "metadata": {},
   "outputs": [],
   "source": [
    "import numpy as np\n",
    "import scanpy as sc\n",
    "import os, sys"
   ]
  },
  {
   "cell_type": "code",
   "execution_count": 2,
   "metadata": {},
   "outputs": [],
   "source": [
    "outdir = \"pbmc_dists\"\n",
    "if not os.path.exists(outdir):\n",
    "    os.makedirs(outdir)"
   ]
  },
  {
   "cell_type": "markdown",
   "metadata": {},
   "source": [
    "## Load the count matrix"
   ]
  },
  {
   "cell_type": "code",
   "execution_count": 3,
   "metadata": {},
   "outputs": [],
   "source": [
    "groups = [\"Cortex\", \"PBMC\"]\n",
    "g = groups[1]"
   ]
  },
  {
   "cell_type": "code",
   "execution_count": 4,
   "metadata": {},
   "outputs": [],
   "source": [
    "mtx = sc.read_mtx(g + \"/matrix.mtx\").transpose()"
   ]
  },
  {
   "cell_type": "code",
   "execution_count": 5,
   "metadata": {},
   "outputs": [],
   "source": [
    "cells = []\n",
    "with open(groups[1] + \"/barcodes.tsv\") as file:\n",
    "    for line in file:\n",
    "        cells.append(line.strip())\n",
    "\n",
    "genes = []\n",
    "with open(groups[1] + \"/genes.tsv\") as file:\n",
    "    for line in file:\n",
    "        genes.append(line.strip())"
   ]
  },
  {
   "cell_type": "code",
   "execution_count": 6,
   "metadata": {},
   "outputs": [],
   "source": [
    "import pandas as pd"
   ]
  },
  {
   "cell_type": "code",
   "execution_count": 7,
   "metadata": {},
   "outputs": [],
   "source": [
    "cell_df = pd.DataFrame(cells)\n",
    "cell_df.index = cell_df[0]\n",
    "cell_df = cell_df.drop(0, axis=1)\n",
    "gene_df = pd.DataFrame(genes)\n",
    "gene_df.index = gene_df[0]\n",
    "gene_df = gene_df.drop(0, axis=1)\n",
    "mtx.obs = cell_df\n",
    "mtx.var = gene_df"
   ]
  },
  {
   "cell_type": "code",
   "execution_count": 8,
   "metadata": {
    "scrolled": true
   },
   "outputs": [],
   "source": [
    "mtx.obs[\"Experiment\"] = [cell.split('.')[0] for cell in cells]\n",
    "mtx.obs[\"Technology\"] = [cell.split('.')[1] for cell in cells]"
   ]
  },
  {
   "cell_type": "markdown",
   "metadata": {},
   "source": [
    "## Load marker gene data"
   ]
  },
  {
   "cell_type": "code",
   "execution_count": 9,
   "metadata": {},
   "outputs": [
    {
     "name": "stderr",
     "output_type": "stream",
     "text": [
      "/u/home/l/luke0321/nobackup-WGSPD/anaconda3/lib/python3.7/site-packages/pyarrow/pandas_compat.py:752: FutureWarning: .labels was deprecated in version 0.24.0. Use .codes instead.\n",
      "  labels, = index.labels\n"
     ]
    }
   ],
   "source": [
    "import feather\n",
    "markers = feather.read_dataframe(g + '/' + g + \"_markers.feather\")"
   ]
  },
  {
   "cell_type": "code",
   "execution_count": 10,
   "metadata": {},
   "outputs": [],
   "source": [
    "def remove_trailing_nums(cell_types):\n",
    "    result = []\n",
    "    for item in cell_types:\n",
    "        for i in range(len(item) - 1, 0, -1):\n",
    "            if not item[i].isdigit():\n",
    "                result.append(item[:i + 1])\n",
    "                break\n",
    "    return result"
   ]
  },
  {
   "cell_type": "code",
   "execution_count": 11,
   "metadata": {},
   "outputs": [],
   "source": [
    "markers[\"Cell type\"] = remove_trailing_nums(markers[\"Cell type\"])"
   ]
  },
  {
   "cell_type": "code",
   "execution_count": 12,
   "metadata": {},
   "outputs": [],
   "source": [
    "up_genes = {}\n",
    "down_genes = {}\n",
    "for t in markers[\"Cell type\"].unique():\n",
    "    up_genes[t] = [item[:-1] for item in list(markers[markers[\"Cell type\"] == t][\"m\"]) if item[-1] == '+']\n",
    "    down_genes[t] = [item[:-1] for item in list(markers[markers[\"Cell type\"] == t][\"m\"]) if item[-1] == '-']"
   ]
  },
  {
   "cell_type": "markdown",
   "metadata": {},
   "source": [
    "## Load the optimal hyperparameters for clustering"
   ]
  },
  {
   "cell_type": "code",
   "execution_count": 13,
   "metadata": {},
   "outputs": [],
   "source": [
    "params = pd.read_csv(\"params.txt\", sep=\"\\t\", header=0)    "
   ]
  },
  {
   "cell_type": "code",
   "execution_count": 14,
   "metadata": {
    "scrolled": true
   },
   "outputs": [
    {
     "data": {
      "text/html": [
       "<div>\n",
       "<style scoped>\n",
       "    .dataframe tbody tr th:only-of-type {\n",
       "        vertical-align: middle;\n",
       "    }\n",
       "\n",
       "    .dataframe tbody tr th {\n",
       "        vertical-align: top;\n",
       "    }\n",
       "\n",
       "    .dataframe thead th {\n",
       "        text-align: right;\n",
       "    }\n",
       "</style>\n",
       "<table border=\"1\" class=\"dataframe\">\n",
       "  <thead>\n",
       "    <tr style=\"text-align: right;\">\n",
       "      <th></th>\n",
       "      <th>Method</th>\n",
       "      <th>Replicate</th>\n",
       "      <th>#nearestneighbors</th>\n",
       "      <th>variable.gene</th>\n",
       "      <th>resolution</th>\n",
       "      <th>#PCs</th>\n",
       "    </tr>\n",
       "  </thead>\n",
       "  <tbody>\n",
       "    <tr>\n",
       "      <td>0</td>\n",
       "      <td>Smart-seq2</td>\n",
       "      <td>PBMC1</td>\n",
       "      <td>5</td>\n",
       "      <td>False</td>\n",
       "      <td>1.5</td>\n",
       "      <td>20</td>\n",
       "    </tr>\n",
       "    <tr>\n",
       "      <td>1</td>\n",
       "      <td>CEL-Seq2</td>\n",
       "      <td>PBMC1</td>\n",
       "      <td>5</td>\n",
       "      <td>False</td>\n",
       "      <td>0.5</td>\n",
       "      <td>20</td>\n",
       "    </tr>\n",
       "    <tr>\n",
       "      <td>2</td>\n",
       "      <td>10x-Chromium-v2-A</td>\n",
       "      <td>PBMC1</td>\n",
       "      <td>30</td>\n",
       "      <td>False</td>\n",
       "      <td>1.5</td>\n",
       "      <td>30</td>\n",
       "    </tr>\n",
       "    <tr>\n",
       "      <td>3</td>\n",
       "      <td>10x-Chromium-v2-B</td>\n",
       "      <td>PBMC1</td>\n",
       "      <td>15</td>\n",
       "      <td>True</td>\n",
       "      <td>0.8</td>\n",
       "      <td>20</td>\n",
       "    </tr>\n",
       "    <tr>\n",
       "      <td>4</td>\n",
       "      <td>10x-Chromium-v3</td>\n",
       "      <td>PBMC1</td>\n",
       "      <td>30</td>\n",
       "      <td>True</td>\n",
       "      <td>0.8</td>\n",
       "      <td>30</td>\n",
       "    </tr>\n",
       "    <tr>\n",
       "      <td>5</td>\n",
       "      <td>Drop-seq</td>\n",
       "      <td>PBMC1</td>\n",
       "      <td>15</td>\n",
       "      <td>False</td>\n",
       "      <td>1.0</td>\n",
       "      <td>30</td>\n",
       "    </tr>\n",
       "    <tr>\n",
       "      <td>6</td>\n",
       "      <td>Seq-Well</td>\n",
       "      <td>PBMC1</td>\n",
       "      <td>15</td>\n",
       "      <td>True</td>\n",
       "      <td>1.5</td>\n",
       "      <td>30</td>\n",
       "    </tr>\n",
       "    <tr>\n",
       "      <td>7</td>\n",
       "      <td>inDrops</td>\n",
       "      <td>PBMC1</td>\n",
       "      <td>30</td>\n",
       "      <td>True</td>\n",
       "      <td>1.2</td>\n",
       "      <td>30</td>\n",
       "    </tr>\n",
       "    <tr>\n",
       "      <td>8</td>\n",
       "      <td>Smart-seq2</td>\n",
       "      <td>PBMC2</td>\n",
       "      <td>5</td>\n",
       "      <td>False</td>\n",
       "      <td>0.5</td>\n",
       "      <td>20</td>\n",
       "    </tr>\n",
       "    <tr>\n",
       "      <td>9</td>\n",
       "      <td>CEL-Seq2</td>\n",
       "      <td>PBMC2</td>\n",
       "      <td>5</td>\n",
       "      <td>True</td>\n",
       "      <td>0.5</td>\n",
       "      <td>20</td>\n",
       "    </tr>\n",
       "    <tr>\n",
       "      <td>10</td>\n",
       "      <td>10x-Chromium-v2</td>\n",
       "      <td>PBMC2</td>\n",
       "      <td>30</td>\n",
       "      <td>True</td>\n",
       "      <td>1.5</td>\n",
       "      <td>50</td>\n",
       "    </tr>\n",
       "    <tr>\n",
       "      <td>11</td>\n",
       "      <td>Drop-seq</td>\n",
       "      <td>PBMC2</td>\n",
       "      <td>30</td>\n",
       "      <td>True</td>\n",
       "      <td>0.8</td>\n",
       "      <td>20</td>\n",
       "    </tr>\n",
       "    <tr>\n",
       "      <td>12</td>\n",
       "      <td>Seq-Well</td>\n",
       "      <td>PBMC2</td>\n",
       "      <td>15</td>\n",
       "      <td>False</td>\n",
       "      <td>1.2</td>\n",
       "      <td>30</td>\n",
       "    </tr>\n",
       "    <tr>\n",
       "      <td>13</td>\n",
       "      <td>inDrops</td>\n",
       "      <td>PBMC2</td>\n",
       "      <td>15</td>\n",
       "      <td>True</td>\n",
       "      <td>1.5</td>\n",
       "      <td>20</td>\n",
       "    </tr>\n",
       "    <tr>\n",
       "      <td>14</td>\n",
       "      <td>Smart-seq2</td>\n",
       "      <td>Cortex1</td>\n",
       "      <td>5</td>\n",
       "      <td>True</td>\n",
       "      <td>1.5</td>\n",
       "      <td>30</td>\n",
       "    </tr>\n",
       "    <tr>\n",
       "      <td>15</td>\n",
       "      <td>10x-Chromium-v2</td>\n",
       "      <td>Cortex1</td>\n",
       "      <td>30</td>\n",
       "      <td>False</td>\n",
       "      <td>1.2</td>\n",
       "      <td>20</td>\n",
       "    </tr>\n",
       "    <tr>\n",
       "      <td>16</td>\n",
       "      <td>DroNc-seq</td>\n",
       "      <td>Cortex1</td>\n",
       "      <td>10</td>\n",
       "      <td>False</td>\n",
       "      <td>1.5</td>\n",
       "      <td>50</td>\n",
       "    </tr>\n",
       "    <tr>\n",
       "      <td>17</td>\n",
       "      <td>sci-RNA-seq</td>\n",
       "      <td>Cortex1</td>\n",
       "      <td>30</td>\n",
       "      <td>False</td>\n",
       "      <td>1.2</td>\n",
       "      <td>20</td>\n",
       "    </tr>\n",
       "  </tbody>\n",
       "</table>\n",
       "</div>"
      ],
      "text/plain": [
       "               Method Replicate  #nearestneighbors  variable.gene  resolution  \\\n",
       "0          Smart-seq2     PBMC1                  5          False         1.5   \n",
       "1            CEL-Seq2     PBMC1                  5          False         0.5   \n",
       "2   10x-Chromium-v2-A     PBMC1                 30          False         1.5   \n",
       "3   10x-Chromium-v2-B     PBMC1                 15           True         0.8   \n",
       "4     10x-Chromium-v3     PBMC1                 30           True         0.8   \n",
       "5            Drop-seq     PBMC1                 15          False         1.0   \n",
       "6            Seq-Well     PBMC1                 15           True         1.5   \n",
       "7             inDrops     PBMC1                 30           True         1.2   \n",
       "8          Smart-seq2     PBMC2                  5          False         0.5   \n",
       "9            CEL-Seq2     PBMC2                  5           True         0.5   \n",
       "10    10x-Chromium-v2     PBMC2                 30           True         1.5   \n",
       "11           Drop-seq     PBMC2                 30           True         0.8   \n",
       "12           Seq-Well     PBMC2                 15          False         1.2   \n",
       "13            inDrops     PBMC2                 15           True         1.5   \n",
       "14         Smart-seq2   Cortex1                  5           True         1.5   \n",
       "15    10x-Chromium-v2   Cortex1                 30          False         1.2   \n",
       "16          DroNc-seq   Cortex1                 10          False         1.5   \n",
       "17        sci-RNA-seq   Cortex1                 30          False         1.2   \n",
       "\n",
       "    #PCs  \n",
       "0     20  \n",
       "1     20  \n",
       "2     30  \n",
       "3     20  \n",
       "4     30  \n",
       "5     30  \n",
       "6     30  \n",
       "7     30  \n",
       "8     20  \n",
       "9     20  \n",
       "10    50  \n",
       "11    20  \n",
       "12    30  \n",
       "13    20  \n",
       "14    30  \n",
       "15    20  \n",
       "16    50  \n",
       "17    20  "
      ]
     },
     "execution_count": 14,
     "metadata": {},
     "output_type": "execute_result"
    }
   ],
   "source": [
    "params"
   ]
  },
  {
   "cell_type": "code",
   "execution_count": 15,
   "metadata": {},
   "outputs": [
    {
     "data": {
      "text/plain": [
       "array(['Smart-seq2', 'CEL-Seq2', '10x-Chromium-v2-A', '10x-Chromium-v2-B',\n",
       "       '10x-Chromium-v3', 'Drop-seq', 'Seq-Well', 'inDrops',\n",
       "       '10x-Chromium-v2'], dtype=object)"
      ]
     },
     "execution_count": 15,
     "metadata": {},
     "output_type": "execute_result"
    }
   ],
   "source": [
    "mtx.obs[\"Technology\"].unique()"
   ]
  },
  {
   "cell_type": "markdown",
   "metadata": {},
   "source": [
    "## Check the clustering and annotate each cluster with marker genes"
   ]
  },
  {
   "cell_type": "code",
   "execution_count": 16,
   "metadata": {},
   "outputs": [],
   "source": [
    "from sklearn.metrics import roc_auc_score\n",
    "from scipy.spatial import distance_matrix\n",
    "from scipy.spatial.distance import cdist, euclidean\n",
    "import matplotlib.pyplot as plt"
   ]
  },
  {
   "cell_type": "code",
   "execution_count": 17,
   "metadata": {},
   "outputs": [],
   "source": [
    "def annotate_clusters(cells, up_genes, down_genes, groupby=\"louvain\"):\n",
    "    clusters = cells.obs[\"louvain\"].unique()\n",
    "    cell_types = [t for t in up_genes]\n",
    "    cell_type_scores = np.zeros((cells.shape[0], len(cell_types)))\n",
    "    observed_genes = list(cells.var.index)\n",
    "    # Compute cell type collapsed gene scores for each cell\n",
    "    up_down = [] # 1 for up, 0 for both, -1 for down\n",
    "    for t in range(len(cell_types)):\n",
    "        ups = list(set(observed_genes) & set(up_genes[cell_types[t]]))\n",
    "        downs = list(set(observed_genes) & set(down_genes[cell_types[t]]))\n",
    "        ups_index = []\n",
    "        downs_index = []\n",
    "        for item in ups:\n",
    "            ups_index += [i for i in range(len(observed_genes)) if observed_genes[i] == item]\n",
    "        for item in downs:\n",
    "            downs_index += [i for i in range(len(observed_genes)) if observed_genes[i] == item]\n",
    "\n",
    "        if len(ups) > 0 and len(downs) > 0:\n",
    "            up_scores = np.sum(np.expm1(cells.X[:, ups_index]), axis=1) * 10e4 / np.sum(np.expm1(cells.X), axis=1)\n",
    "            down_scores = np.sum(np.expm1(cells.X[:, downs_index]), axis=1) * 10e4 / np.sum(np.expm1(cells.X), axis=1)\n",
    "            cell_type_scores[:, t] = np.log1p(up_scores).flatten() - np.log1p(down_scores).flatten()\n",
    "            up_down.append(0)\n",
    "        elif len(ups) > 0:\n",
    "            scores = np.sum(np.expm1(cells.X[:, ups_index]), axis=1) * 10e4 / np.sum(np.expm1(cells.X), axis=1)\n",
    "            cell_type_scores[:, t] = np.log1p(scores).flatten()\n",
    "            up_down.append(1)\n",
    "        else:\n",
    "            scores = np.sum(np.expm1(cells.X[:, downs_index]), axis=1) * 10e4 / np.sum(np.expm1(cells.X), axis=1)\n",
    "            cell_type_scores[:, t] = np.log1p(scores).flatten()\n",
    "            up_down.append(-1)\n",
    "    \n",
    "    cluster_map = {}\n",
    "    # Each cluster is assigned to the cell type with largest auc\n",
    "    cluster_aucs = []\n",
    "    for c in clusters:\n",
    "        index = cells.obs[\"louvain\"] == c\n",
    "        index_not = cells.obs[\"louvain\"] != c\n",
    "        scores_c = cell_type_scores[index]\n",
    "        scores_notc = cell_type_scores[index_not]\n",
    "        aucs = np.zeros(len(cell_types))\n",
    "        for t in range(len(cell_types)):\n",
    "            if up_down[t] != -1:\n",
    "                c_true = [1] * len(scores_c) + [0] * len(scores_notc)\n",
    "            else:\n",
    "                c_true = [0] * len(scores_c) + [1] * len(scores_notc)\n",
    "            c_pred = np.append(scores_c[:, t], scores_notc[:, t])\n",
    "            aucs[t] = roc_auc_score(c_true, c_pred)\n",
    "        cluster_map[c] = cell_types[np.argmax(aucs)]\n",
    "        cluster_aucs.append(np.max(aucs))\n",
    "        \n",
    "    return cluster_map, np.mean(cluster_aucs)"
   ]
  },
  {
   "cell_type": "code",
   "execution_count": 18,
   "metadata": {},
   "outputs": [],
   "source": [
    "def cell_type_distances(cells, metric=\"euclidean\"):\n",
    "    cell_types = cells.obs[\"Cell type\"].unique()\n",
    "    cells_by_type = []\n",
    "    for c in cell_types:\n",
    "        cells_c = cells[cells.obs[\"Cell type\"] == c]\n",
    "        pcs_c = cells_c.obsm['X_pca']\n",
    "        cells_by_type.append(pcs_c)\n",
    "    distance_matrix = np.zeros((len(cell_types), len(cell_types)))\n",
    "    for i in range(len(cell_types)):\n",
    "        for j in range(i + 1, len(cell_types)):\n",
    "            if metric == \"eucentroid\":\n",
    "                distance_matrix[i][j] = euclidean(np.mean(cells_by_type[i], axis=0), np.mean(cells_by_type[j], axis=0))\n",
    "            else:\n",
    "                distance_matrix[i][j] = np.mean(cdist(cells_by_type[i], cells_by_type[j], metric=metric))\n",
    "    return distance_matrix, cell_types"
   ]
  },
  {
   "cell_type": "code",
   "execution_count": 19,
   "metadata": {},
   "outputs": [],
   "source": [
    "dists = [\"euclidean\", \"cosine\", \"correlation\", \"cityblock\", \"eucentroid\"]"
   ]
  },
  {
   "cell_type": "code",
   "execution_count": 20,
   "metadata": {},
   "outputs": [],
   "source": [
    "def cluster_single_trial(mtx, experiment, technology, up_genes, down_genes, nn=10, variable_gene=False, reso=1.0, pc=30):\n",
    "    ind = (mtx.obs[\"Technology\"] == technology) & (mtx.obs[\"Experiment\"] == experiment)\n",
    "    if len(ind) == 0:\n",
    "        return -1\n",
    "    cells = mtx[ind].copy()\n",
    "    # Annotate highly variable genes, this expects logarithmized data\n",
    "    sc.pp.highly_variable_genes(cells)\n",
    "    # Subset highly variable genes\n",
    "    cells_highvar = cells[:, cells.var[\"highly_variable\"] == True].copy()\n",
    "    if variable_gene == True:\n",
    "         # Perform pca\n",
    "        sc.pp.pca(cells_highvar)\n",
    "        # Compute k-NN graph\n",
    "        sc.pp.neighbors(cells_highvar, n_neighbors=nn, n_pcs=pc)\n",
    "        # Louvain algorithm for clustering\n",
    "        sc.tl.louvain(cells_highvar, resolution=reso, random_state=0)\n",
    "        cells.obs[\"louvain\"] = cells_highvar.obs[\"louvain\"]\n",
    "    else:\n",
    "        # Perform pca\n",
    "        sc.pp.pca(cells)\n",
    "        # Compute k-NN graph\n",
    "        sc.pp.neighbors(cells, n_neighbors=nn, n_pcs=pc)\n",
    "        # Louvain algorithm for clustering\n",
    "        sc.tl.louvain(cells, resolution=reso, random_state=0)\n",
    "    \n",
    "    m, auc = annotate_clusters(cells, up_genes, down_genes)\n",
    "    clusters = list(cells.obs[\"louvain\"])\n",
    "    cell_types = [m[c] for c in clusters]\n",
    "    # t-SNE visualization\n",
    "    if variable_gene == True:\n",
    "        sc.pp.pca(cells)\n",
    "    cells.obs[\"Cell type\"] = cell_types\n",
    "    sc.tl.tsne(cells, n_pcs=pc)\n",
    "    plt.figure(figsize=(10, 10))\n",
    "    sc.pl.tsne(cells, size=50, color=\"Cell type\", title=\"%s, %s\" % (experiment, technology), return_fig=True, show=False)\n",
    "    lgd = plt.legend(bbox_to_anchor=(1.01, 1), loc='upper left')    \n",
    "    plt.savefig(outdir + \"/%s_%s.png\" % (experiment, technology), bbox_extra_artists=(lgd,), bbox_inches='tight')\n",
    "    plt.close()\n",
    "    \n",
    "    # Compute cell-type distances using a number of metrics\n",
    "    for d in dists:\n",
    "        m, c = cell_type_distances(cells, metric=d)\n",
    "        # Write the distance matrix to a file\n",
    "        with open(outdir + \"/%s_%s_%s.txt\" % (experiment, technology, d), \"w+\") as file:\n",
    "            file.write('\\t'.join(c) + '\\n')\n",
    "            for i in range(m.shape[0]):\n",
    "                file.write('\\t'.join([str(item) for item in m[i, :]]) + '\\n')\n",
    "    return"
   ]
  },
  {
   "cell_type": "code",
   "execution_count": 21,
   "metadata": {
    "scrolled": false
   },
   "outputs": [
    {
     "name": "stderr",
     "output_type": "stream",
     "text": [
      "Variable names are not unique. To make them unique, call `.var_names_make_unique`.\n",
      "Variable names are not unique. To make them unique, call `.var_names_make_unique`.\n"
     ]
    }
   ],
   "source": [
    "# Remove genes that are not expressed\n",
    "sc.pp.filter_genes(mtx, min_counts=1)\n",
    "# Normalize each cell by total gene counts\n",
    "sc.pp.normalize_total(mtx)\n",
    "# Log transformation\n",
    "sc.pp.log1p(mtx)"
   ]
  },
  {
   "cell_type": "code",
   "execution_count": 22,
   "metadata": {},
   "outputs": [
    {
     "name": "stderr",
     "output_type": "stream",
     "text": [
      "Variable names are not unique. To make them unique, call `.var_names_make_unique`.\n",
      "Variable names are not unique. To make them unique, call `.var_names_make_unique`.\n",
      "... storing 'Experiment' as categorical\n",
      "... storing 'Technology' as categorical\n",
      "... storing 'Cell type' as categorical\n",
      "Variable names are not unique. To make them unique, call `.var_names_make_unique`.\n"
     ]
    },
    {
     "name": "stdout",
     "output_type": "stream",
     "text": [
      "Finished PBMC1, Smart-seq2\n"
     ]
    },
    {
     "name": "stderr",
     "output_type": "stream",
     "text": [
      "Variable names are not unique. To make them unique, call `.var_names_make_unique`.\n",
      "... storing 'Experiment' as categorical\n",
      "... storing 'Technology' as categorical\n",
      "... storing 'Cell type' as categorical\n",
      "Variable names are not unique. To make them unique, call `.var_names_make_unique`.\n"
     ]
    },
    {
     "name": "stdout",
     "output_type": "stream",
     "text": [
      "Finished PBMC1, CEL-Seq2\n"
     ]
    },
    {
     "name": "stderr",
     "output_type": "stream",
     "text": [
      "Variable names are not unique. To make them unique, call `.var_names_make_unique`.\n",
      "... storing 'Experiment' as categorical\n",
      "... storing 'Technology' as categorical\n",
      "... storing 'Cell type' as categorical\n",
      "Variable names are not unique. To make them unique, call `.var_names_make_unique`.\n"
     ]
    },
    {
     "name": "stdout",
     "output_type": "stream",
     "text": [
      "Finished PBMC1, 10x-Chromium-v2-A\n"
     ]
    },
    {
     "name": "stderr",
     "output_type": "stream",
     "text": [
      "Variable names are not unique. To make them unique, call `.var_names_make_unique`.\n",
      "... storing 'Experiment' as categorical\n",
      "... storing 'Technology' as categorical\n",
      "... storing 'Cell type' as categorical\n",
      "Variable names are not unique. To make them unique, call `.var_names_make_unique`.\n"
     ]
    },
    {
     "name": "stdout",
     "output_type": "stream",
     "text": [
      "Finished PBMC1, 10x-Chromium-v2-B\n"
     ]
    },
    {
     "name": "stderr",
     "output_type": "stream",
     "text": [
      "Variable names are not unique. To make them unique, call `.var_names_make_unique`.\n",
      "... storing 'Experiment' as categorical\n",
      "... storing 'Technology' as categorical\n",
      "... storing 'Cell type' as categorical\n",
      "Variable names are not unique. To make them unique, call `.var_names_make_unique`.\n"
     ]
    },
    {
     "name": "stdout",
     "output_type": "stream",
     "text": [
      "Finished PBMC1, 10x-Chromium-v3\n"
     ]
    },
    {
     "name": "stderr",
     "output_type": "stream",
     "text": [
      "Variable names are not unique. To make them unique, call `.var_names_make_unique`.\n",
      "... storing 'Experiment' as categorical\n",
      "... storing 'Technology' as categorical\n",
      "... storing 'Cell type' as categorical\n",
      "Variable names are not unique. To make them unique, call `.var_names_make_unique`.\n"
     ]
    },
    {
     "name": "stdout",
     "output_type": "stream",
     "text": [
      "Finished PBMC1, Drop-seq\n"
     ]
    },
    {
     "name": "stderr",
     "output_type": "stream",
     "text": [
      "Variable names are not unique. To make them unique, call `.var_names_make_unique`.\n",
      "... storing 'Experiment' as categorical\n",
      "... storing 'Technology' as categorical\n",
      "... storing 'Cell type' as categorical\n",
      "Variable names are not unique. To make them unique, call `.var_names_make_unique`.\n"
     ]
    },
    {
     "name": "stdout",
     "output_type": "stream",
     "text": [
      "Finished PBMC1, Seq-Well\n"
     ]
    },
    {
     "name": "stderr",
     "output_type": "stream",
     "text": [
      "Variable names are not unique. To make them unique, call `.var_names_make_unique`.\n",
      "... storing 'Experiment' as categorical\n",
      "... storing 'Technology' as categorical\n",
      "... storing 'Cell type' as categorical\n",
      "Variable names are not unique. To make them unique, call `.var_names_make_unique`.\n"
     ]
    },
    {
     "name": "stdout",
     "output_type": "stream",
     "text": [
      "Finished PBMC1, inDrops\n"
     ]
    },
    {
     "name": "stderr",
     "output_type": "stream",
     "text": [
      "Variable names are not unique. To make them unique, call `.var_names_make_unique`.\n",
      "... storing 'Experiment' as categorical\n",
      "... storing 'Technology' as categorical\n",
      "... storing 'Cell type' as categorical\n",
      "Variable names are not unique. To make them unique, call `.var_names_make_unique`.\n"
     ]
    },
    {
     "name": "stdout",
     "output_type": "stream",
     "text": [
      "Finished PBMC2, Smart-seq2\n"
     ]
    },
    {
     "name": "stderr",
     "output_type": "stream",
     "text": [
      "Variable names are not unique. To make them unique, call `.var_names_make_unique`.\n",
      "... storing 'Experiment' as categorical\n",
      "... storing 'Technology' as categorical\n",
      "... storing 'Cell type' as categorical\n",
      "Variable names are not unique. To make them unique, call `.var_names_make_unique`.\n"
     ]
    },
    {
     "name": "stdout",
     "output_type": "stream",
     "text": [
      "Finished PBMC2, CEL-Seq2\n"
     ]
    },
    {
     "name": "stderr",
     "output_type": "stream",
     "text": [
      "Variable names are not unique. To make them unique, call `.var_names_make_unique`.\n",
      "... storing 'Experiment' as categorical\n",
      "... storing 'Technology' as categorical\n",
      "... storing 'Cell type' as categorical\n",
      "Variable names are not unique. To make them unique, call `.var_names_make_unique`.\n"
     ]
    },
    {
     "name": "stdout",
     "output_type": "stream",
     "text": [
      "Finished PBMC2, Drop-seq\n"
     ]
    },
    {
     "name": "stderr",
     "output_type": "stream",
     "text": [
      "Variable names are not unique. To make them unique, call `.var_names_make_unique`.\n",
      "... storing 'Experiment' as categorical\n",
      "... storing 'Technology' as categorical\n",
      "... storing 'Cell type' as categorical\n",
      "Variable names are not unique. To make them unique, call `.var_names_make_unique`.\n"
     ]
    },
    {
     "name": "stdout",
     "output_type": "stream",
     "text": [
      "Finished PBMC2, Seq-Well\n"
     ]
    },
    {
     "name": "stderr",
     "output_type": "stream",
     "text": [
      "Variable names are not unique. To make them unique, call `.var_names_make_unique`.\n",
      "... storing 'Experiment' as categorical\n",
      "... storing 'Technology' as categorical\n",
      "... storing 'Cell type' as categorical\n",
      "Variable names are not unique. To make them unique, call `.var_names_make_unique`.\n"
     ]
    },
    {
     "name": "stdout",
     "output_type": "stream",
     "text": [
      "Finished PBMC2, inDrops\n"
     ]
    },
    {
     "name": "stderr",
     "output_type": "stream",
     "text": [
      "Variable names are not unique. To make them unique, call `.var_names_make_unique`.\n",
      "... storing 'Experiment' as categorical\n",
      "... storing 'Technology' as categorical\n",
      "... storing 'Cell type' as categorical\n"
     ]
    },
    {
     "name": "stdout",
     "output_type": "stream",
     "text": [
      "Finished PBMC2, 10x-Chromium-v2\n"
     ]
    },
    {
     "data": {
      "text/plain": [
       "<Figure size 720x720 with 0 Axes>"
      ]
     },
     "metadata": {},
     "output_type": "display_data"
    },
    {
     "data": {
      "text/plain": [
       "<Figure size 720x720 with 0 Axes>"
      ]
     },
     "metadata": {},
     "output_type": "display_data"
    },
    {
     "data": {
      "text/plain": [
       "<Figure size 720x720 with 0 Axes>"
      ]
     },
     "metadata": {},
     "output_type": "display_data"
    },
    {
     "data": {
      "text/plain": [
       "<Figure size 720x720 with 0 Axes>"
      ]
     },
     "metadata": {},
     "output_type": "display_data"
    },
    {
     "data": {
      "text/plain": [
       "<Figure size 720x720 with 0 Axes>"
      ]
     },
     "metadata": {},
     "output_type": "display_data"
    },
    {
     "data": {
      "text/plain": [
       "<Figure size 720x720 with 0 Axes>"
      ]
     },
     "metadata": {},
     "output_type": "display_data"
    },
    {
     "data": {
      "text/plain": [
       "<Figure size 720x720 with 0 Axes>"
      ]
     },
     "metadata": {},
     "output_type": "display_data"
    },
    {
     "data": {
      "text/plain": [
       "<Figure size 720x720 with 0 Axes>"
      ]
     },
     "metadata": {},
     "output_type": "display_data"
    },
    {
     "data": {
      "text/plain": [
       "<Figure size 720x720 with 0 Axes>"
      ]
     },
     "metadata": {},
     "output_type": "display_data"
    },
    {
     "data": {
      "text/plain": [
       "<Figure size 720x720 with 0 Axes>"
      ]
     },
     "metadata": {},
     "output_type": "display_data"
    },
    {
     "data": {
      "text/plain": [
       "<Figure size 720x720 with 0 Axes>"
      ]
     },
     "metadata": {},
     "output_type": "display_data"
    },
    {
     "data": {
      "text/plain": [
       "<Figure size 720x720 with 0 Axes>"
      ]
     },
     "metadata": {},
     "output_type": "display_data"
    },
    {
     "data": {
      "text/plain": [
       "<Figure size 720x720 with 0 Axes>"
      ]
     },
     "metadata": {},
     "output_type": "display_data"
    },
    {
     "data": {
      "text/plain": [
       "<Figure size 720x720 with 0 Axes>"
      ]
     },
     "metadata": {},
     "output_type": "display_data"
    }
   ],
   "source": [
    "for exp in mtx.obs[\"Experiment\"].unique():\n",
    "    for tech in mtx.obs[\"Technology\"].unique():\n",
    "        params_row = params[params[\"Method\"] == tech]\n",
    "        params_row = params_row[params_row[\"Replicate\"] == exp]\n",
    "        if len(params_row) == 0:\n",
    "            continue\n",
    "        nn = int(params_row[\"#nearestneighbors\"])\n",
    "        vg = bool(params_row[\"variable.gene\"].tolist()[0])\n",
    "        reso = float(params_row[\"resolution\"])\n",
    "        pc = int(params_row[\"#PCs\"])\n",
    "        cluster_single_trial(mtx, exp, tech, up_genes, down_genes, nn=nn, variable_gene=vg, reso=reso, pc=pc)\n",
    "        print(\"Finished %s, %s\" % (exp, tech))"
   ]
  }
 ],
 "metadata": {
  "kernelspec": {
   "display_name": "Python 3",
   "language": "python",
   "name": "python3"
  },
  "language_info": {
   "codemirror_mode": {
    "name": "ipython",
    "version": 3
   },
   "file_extension": ".py",
   "mimetype": "text/x-python",
   "name": "python",
   "nbconvert_exporter": "python",
   "pygments_lexer": "ipython3",
   "version": "3.8.8"
  }
 },
 "nbformat": 4,
 "nbformat_minor": 2
}
